{
 "cells": [
  {
   "cell_type": "markdown",
   "metadata": {},
   "source": [
    "# Random Forest"
   ]
  },
  {
   "cell_type": "markdown",
   "metadata": {},
   "source": [
    "O projeto consiste em duas análises diferentes dos dados utilizando dois algoritmos diferentes."
   ]
  },
  {
   "cell_type": "markdown",
   "metadata": {},
   "source": [
    "Importar as bibliotecas"
   ]
  },
  {
   "cell_type": "code",
   "execution_count": 31,
   "metadata": {},
   "outputs": [],
   "source": [
    "import pandas as pd\n",
    "import numpy as np\n",
    "import collections\n",
    "import statsmodels.api as sm\n",
    "import matplotlib.pyplot as plt\n",
    "%matplotlib inline"
   ]
  },
  {
   "cell_type": "code",
   "execution_count": 36,
   "metadata": {},
   "outputs": [],
   "source": [
    "df1 = pd.read_csv('dataset_dose.csv')"
   ]
  },
  {
   "cell_type": "code",
   "execution_count": null,
   "metadata": {},
   "outputs": [],
   "source": [
    "#df1 = pd.read_csv('dataset_noDose.csv')"
   ]
  },
  {
   "cell_type": "code",
   "execution_count": 37,
   "metadata": {},
   "outputs": [
    {
     "data": {
      "text/html": [
       "<div>\n",
       "<style scoped>\n",
       "    .dataframe tbody tr th:only-of-type {\n",
       "        vertical-align: middle;\n",
       "    }\n",
       "\n",
       "    .dataframe tbody tr th {\n",
       "        vertical-align: top;\n",
       "    }\n",
       "\n",
       "    .dataframe thead th {\n",
       "        text-align: right;\n",
       "    }\n",
       "</style>\n",
       "<table border=\"1\" class=\"dataframe\">\n",
       "  <thead>\n",
       "    <tr style=\"text-align: right;\">\n",
       "      <th></th>\n",
       "      <th>test_id</th>\n",
       "      <th>family</th>\n",
       "      <th>chemical</th>\n",
       "      <th>dose</th>\n",
       "      <th>effect</th>\n",
       "    </tr>\n",
       "  </thead>\n",
       "  <tbody>\n",
       "    <tr>\n",
       "      <th>0</th>\n",
       "      <td>13</td>\n",
       "      <td>Megascolecidae</td>\n",
       "      <td>2-Propanone</td>\n",
       "      <td>1.0</td>\n",
       "      <td>Accumulation</td>\n",
       "    </tr>\n",
       "    <tr>\n",
       "      <th>1</th>\n",
       "      <td>22</td>\n",
       "      <td>Muridae</td>\n",
       "      <td>Corn oil</td>\n",
       "      <td>1.0</td>\n",
       "      <td>Mortality</td>\n",
       "    </tr>\n",
       "    <tr>\n",
       "      <th>2</th>\n",
       "      <td>22</td>\n",
       "      <td>Muridae</td>\n",
       "      <td>Corn oil</td>\n",
       "      <td>2.0</td>\n",
       "      <td>Mortality</td>\n",
       "    </tr>\n",
       "    <tr>\n",
       "      <th>3</th>\n",
       "      <td>23</td>\n",
       "      <td>Canidae</td>\n",
       "      <td>Corn oil</td>\n",
       "      <td>0.5</td>\n",
       "      <td>Mortality</td>\n",
       "    </tr>\n",
       "    <tr>\n",
       "      <th>4</th>\n",
       "      <td>23</td>\n",
       "      <td>Canidae</td>\n",
       "      <td>Corn oil</td>\n",
       "      <td>1.0</td>\n",
       "      <td>Mortality</td>\n",
       "    </tr>\n",
       "  </tbody>\n",
       "</table>\n",
       "</div>"
      ],
      "text/plain": [
       "   test_id          family     chemical  dose        effect\n",
       "0       13  Megascolecidae  2-Propanone   1.0  Accumulation\n",
       "1       22         Muridae     Corn oil   1.0     Mortality\n",
       "2       22         Muridae     Corn oil   2.0     Mortality\n",
       "3       23         Canidae     Corn oil   0.5     Mortality\n",
       "4       23         Canidae     Corn oil   1.0     Mortality"
      ]
     },
     "execution_count": 37,
     "metadata": {},
     "output_type": "execute_result"
    }
   ],
   "source": [
    "df1.head()"
   ]
  },
  {
   "cell_type": "markdown",
   "metadata": {},
   "source": [
    "Aqui foi separado em dois arquivos, um contendo a classe e outro contendo as características"
   ]
  },
  {
   "cell_type": "code",
   "execution_count": 38,
   "metadata": {},
   "outputs": [],
   "source": [
    "outputCodes = df1['effect']\n",
    "del df1['effect']"
   ]
  },
  {
   "cell_type": "markdown",
   "metadata": {},
   "source": [
    "O dado de key do database também não será usado"
   ]
  },
  {
   "cell_type": "code",
   "execution_count": 39,
   "metadata": {},
   "outputs": [],
   "source": [
    "del df1['test_id']"
   ]
  },
  {
   "cell_type": "markdown",
   "metadata": {},
   "source": [
    "Novamente foi encontrado o problema de o algoritmo funcionar apenas com valores inteiros. Para este algoritmo foi utilizada a função Cetegorical para transformar os dados em categórico"
   ]
  },
  {
   "cell_type": "code",
   "execution_count": 40,
   "metadata": {},
   "outputs": [],
   "source": [
    "df1['family'] = pd.Categorical(df1['family']).codes\n",
    "df1['chemical'] = pd.Categorical(df1['chemical']).codes\n",
    "df1['dose'] = pd.Categorical(df1['dose']).codes"
   ]
  },
  {
   "cell_type": "code",
   "execution_count": 41,
   "metadata": {},
   "outputs": [
    {
     "data": {
      "text/html": [
       "<div>\n",
       "<style scoped>\n",
       "    .dataframe tbody tr th:only-of-type {\n",
       "        vertical-align: middle;\n",
       "    }\n",
       "\n",
       "    .dataframe tbody tr th {\n",
       "        vertical-align: top;\n",
       "    }\n",
       "\n",
       "    .dataframe thead th {\n",
       "        text-align: right;\n",
       "    }\n",
       "</style>\n",
       "<table border=\"1\" class=\"dataframe\">\n",
       "  <thead>\n",
       "    <tr style=\"text-align: right;\">\n",
       "      <th></th>\n",
       "      <th>family</th>\n",
       "      <th>chemical</th>\n",
       "      <th>dose</th>\n",
       "    </tr>\n",
       "  </thead>\n",
       "  <tbody>\n",
       "    <tr>\n",
       "      <th>0</th>\n",
       "      <td>363</td>\n",
       "      <td>62</td>\n",
       "      <td>700</td>\n",
       "    </tr>\n",
       "    <tr>\n",
       "      <th>1</th>\n",
       "      <td>378</td>\n",
       "      <td>150</td>\n",
       "      <td>700</td>\n",
       "    </tr>\n",
       "    <tr>\n",
       "      <th>2</th>\n",
       "      <td>378</td>\n",
       "      <td>150</td>\n",
       "      <td>795</td>\n",
       "    </tr>\n",
       "    <tr>\n",
       "      <th>3</th>\n",
       "      <td>113</td>\n",
       "      <td>150</td>\n",
       "      <td>566</td>\n",
       "    </tr>\n",
       "    <tr>\n",
       "      <th>4</th>\n",
       "      <td>113</td>\n",
       "      <td>150</td>\n",
       "      <td>700</td>\n",
       "    </tr>\n",
       "  </tbody>\n",
       "</table>\n",
       "</div>"
      ],
      "text/plain": [
       "   family  chemical  dose\n",
       "0     363        62   700\n",
       "1     378       150   700\n",
       "2     378       150   795\n",
       "3     113       150   566\n",
       "4     113       150   700"
      ]
     },
     "execution_count": 41,
     "metadata": {},
     "output_type": "execute_result"
    }
   ],
   "source": [
    "df1.head()"
   ]
  },
  {
   "cell_type": "markdown",
   "metadata": {},
   "source": [
    "É separado os dados para treino e teste. Foi fixado o parâmetro de 80% dos dados como treino"
   ]
  },
  {
   "cell_type": "code",
   "execution_count": 42,
   "metadata": {},
   "outputs": [],
   "source": [
    "x_train = df1[0:int(0.8*df1.shape[0])]\n",
    "y_train = outputCodes[0:int(0.8*df1.shape[0])]\n",
    "\n",
    "x_test = df1[int(0.8*df1.shape[0]):df1.shape[0]]\n",
    "y_test = outputCodes[int(0.8*df1.shape[0]):df1.shape[0]]"
   ]
  },
  {
   "cell_type": "markdown",
   "metadata": {},
   "source": [
    "Conferência se a transformação se deu corretamente"
   ]
  },
  {
   "cell_type": "code",
   "execution_count": 43,
   "metadata": {},
   "outputs": [
    {
     "data": {
      "text/html": [
       "<div>\n",
       "<style scoped>\n",
       "    .dataframe tbody tr th:only-of-type {\n",
       "        vertical-align: middle;\n",
       "    }\n",
       "\n",
       "    .dataframe tbody tr th {\n",
       "        vertical-align: top;\n",
       "    }\n",
       "\n",
       "    .dataframe thead th {\n",
       "        text-align: right;\n",
       "    }\n",
       "</style>\n",
       "<table border=\"1\" class=\"dataframe\">\n",
       "  <thead>\n",
       "    <tr style=\"text-align: right;\">\n",
       "      <th></th>\n",
       "      <th>family</th>\n",
       "      <th>chemical</th>\n",
       "      <th>dose</th>\n",
       "    </tr>\n",
       "  </thead>\n",
       "  <tbody>\n",
       "    <tr>\n",
       "      <th>0</th>\n",
       "      <td>363</td>\n",
       "      <td>62</td>\n",
       "      <td>700</td>\n",
       "    </tr>\n",
       "    <tr>\n",
       "      <th>1</th>\n",
       "      <td>378</td>\n",
       "      <td>150</td>\n",
       "      <td>700</td>\n",
       "    </tr>\n",
       "    <tr>\n",
       "      <th>2</th>\n",
       "      <td>378</td>\n",
       "      <td>150</td>\n",
       "      <td>795</td>\n",
       "    </tr>\n",
       "    <tr>\n",
       "      <th>3</th>\n",
       "      <td>113</td>\n",
       "      <td>150</td>\n",
       "      <td>566</td>\n",
       "    </tr>\n",
       "    <tr>\n",
       "      <th>4</th>\n",
       "      <td>113</td>\n",
       "      <td>150</td>\n",
       "      <td>700</td>\n",
       "    </tr>\n",
       "  </tbody>\n",
       "</table>\n",
       "</div>"
      ],
      "text/plain": [
       "   family  chemical  dose\n",
       "0     363        62   700\n",
       "1     378       150   700\n",
       "2     378       150   795\n",
       "3     113       150   566\n",
       "4     113       150   700"
      ]
     },
     "execution_count": 43,
     "metadata": {},
     "output_type": "execute_result"
    }
   ],
   "source": [
    "x_train.head()"
   ]
  },
  {
   "cell_type": "code",
   "execution_count": 44,
   "metadata": {},
   "outputs": [
    {
     "data": {
      "text/plain": [
       "RandomForestClassifier(bootstrap=True, class_weight=None, criterion='gini',\n",
       "            max_depth=2, max_features='auto', max_leaf_nodes=None,\n",
       "            min_impurity_decrease=0.0, min_impurity_split=None,\n",
       "            min_samples_leaf=1, min_samples_split=2,\n",
       "            min_weight_fraction_leaf=0.0, n_estimators=10, n_jobs=1,\n",
       "            oob_score=False, random_state=0, verbose=0, warm_start=False)"
      ]
     },
     "execution_count": 44,
     "metadata": {},
     "output_type": "execute_result"
    }
   ],
   "source": [
    "from sklearn.ensemble import RandomForestClassifier\n",
    "from sklearn.datasets import make_classification\n",
    "\n",
    "clf = RandomForestClassifier(max_depth=2, random_state=0)\n",
    "clf.fit(x_train, y_train)\n",
    "                           "
   ]
  },
  {
   "cell_type": "markdown",
   "metadata": {},
   "source": [
    "Iniciando as funções da RF"
   ]
  },
  {
   "cell_type": "code",
   "execution_count": 45,
   "metadata": {},
   "outputs": [
    {
     "name": "stdout",
     "output_type": "stream",
     "text": [
      "[0.37246934 0.36983078 0.25769989]\n",
      "['Population' 'Population' 'Population' ... 'Mortality' 'Mortality'\n",
      " 'Mortality']\n",
      "112069      Population\n",
      "112070      Population\n",
      "112071      Population\n",
      "112072          Growth\n",
      "112073          Injury\n",
      "112074          Growth\n",
      "112075          Injury\n",
      "112076          Growth\n",
      "112077          Injury\n",
      "112078          Growth\n",
      "112079          Injury\n",
      "112080          Growth\n",
      "112081          Injury\n",
      "112082          Growth\n",
      "112083          Injury\n",
      "112084          Growth\n",
      "112085          Injury\n",
      "112086          Growth\n",
      "112087          Injury\n",
      "112088          Growth\n",
      "112089      Population\n",
      "112090          Growth\n",
      "112091      Population\n",
      "112092          Growth\n",
      "112093          Injury\n",
      "112094          Growth\n",
      "112095          Injury\n",
      "112096      Population\n",
      "112097      Population\n",
      "112098      Population\n",
      "              ...     \n",
      "140057       Enzyme(s)\n",
      "140058    Accumulation\n",
      "140059       Enzyme(s)\n",
      "140060       Mortality\n",
      "140061    Intoxication\n",
      "140062    Intoxication\n",
      "140063    Biochemistry\n",
      "140064       Enzyme(s)\n",
      "140065    Biochemistry\n",
      "140066       Enzyme(s)\n",
      "140067    Biochemistry\n",
      "140068       Enzyme(s)\n",
      "140069    Biochemistry\n",
      "140070       Enzyme(s)\n",
      "140071    Biochemistry\n",
      "140072       Enzyme(s)\n",
      "140073    Biochemistry\n",
      "140074       Enzyme(s)\n",
      "140075    Biochemistry\n",
      "140076       Enzyme(s)\n",
      "140077    Biochemistry\n",
      "140078       Enzyme(s)\n",
      "140079    Biochemistry\n",
      "140080       Enzyme(s)\n",
      "140081    Biochemistry\n",
      "140082       Enzyme(s)\n",
      "140083    Biochemistry\n",
      "140084       Enzyme(s)\n",
      "140085    Biochemistry\n",
      "140086       Enzyme(s)\n",
      "Name: effect, Length: 28018, dtype: object\n"
     ]
    }
   ],
   "source": [
    "RandomForestClassifier(bootstrap=True, class_weight=None, criterion='gini',\n",
    "            max_depth=2, max_features='auto', max_leaf_nodes=None,\n",
    "            min_impurity_decrease=0.0, min_impurity_split=None,\n",
    "            min_samples_leaf=1, min_samples_split=2,\n",
    "            min_weight_fraction_leaf=0.0, n_estimators=10, n_jobs=1,\n",
    "            oob_score=False, random_state=0, verbose=0, warm_start=False)\n",
    "print(clf.feature_importances_)\n",
    "\n",
    "predicted_y = clf.predict(x_test)\n",
    "\n",
    "print (predicted_y)\n",
    "print (y_test)"
   ]
  },
  {
   "cell_type": "markdown",
   "metadata": {},
   "source": [
    "Mostrando predição"
   ]
  },
  {
   "cell_type": "code",
   "execution_count": 46,
   "metadata": {},
   "outputs": [
    {
     "name": "stdout",
     "output_type": "stream",
     "text": [
      "                       precision    recall  f1-score   support\n",
      "\n",
      "         Accumulation       0.00      0.00      0.00       470\n",
      "  Avian/reptilian egg       0.00      0.00      0.00         7\n",
      "            Avoidance       0.00      0.00      0.00        11\n",
      "             Behavior       0.00      0.00      0.00       710\n",
      "         Biochemistry       0.00      0.00      0.00      1428\n",
      "              Cell(s)       0.00      0.00      0.00       760\n",
      "          Development       0.00      0.00      0.00      1449\n",
      "            Enzyme(s)       0.00      0.00      0.00      1407\n",
      "     Feeding behavior       0.00      0.00      0.00       459\n",
      "             Genetics       0.00      0.00      0.00      2041\n",
      "               Growth       0.23      0.07      0.11      3471\n",
      "            Histology       0.00      0.00      0.00       340\n",
      "           Hormone(s)       0.00      0.00      0.00       238\n",
      "        Immunological       0.00      0.00      0.00        62\n",
      "               Injury       0.00      0.00      0.00       500\n",
      "         Intoxication       0.00      0.00      0.00       498\n",
      "           Morphology       0.00      0.00      0.00       825\n",
      "            Mortality       0.22      0.93      0.36      6082\n",
      "Multiple or Undefined       0.00      0.08      0.00        13\n",
      "           Physiology       0.00      0.00      0.00       688\n",
      "           Population       0.49      0.11      0.18      4101\n",
      "         Reproduction       0.00      0.00      0.00      2458\n",
      "\n",
      "          avg / total       0.15      0.23      0.12     28018\n",
      "\n"
     ]
    },
    {
     "name": "stderr",
     "output_type": "stream",
     "text": [
      "/Users/zireael/anaconda3/lib/python3.6/site-packages/sklearn/metrics/classification.py:1135: UndefinedMetricWarning: Precision and F-score are ill-defined and being set to 0.0 in labels with no predicted samples.\n",
      "  'precision', 'predicted', average, warn_for)\n"
     ]
    }
   ],
   "source": [
    "from sklearn.metrics import classification_report\n",
    "print (classification_report(y_test, predicted_y))"
   ]
  }
 ],
 "metadata": {
  "kernelspec": {
   "display_name": "Python 3",
   "language": "python",
   "name": "python3"
  },
  "language_info": {
   "codemirror_mode": {
    "name": "ipython",
    "version": 3
   },
   "file_extension": ".py",
   "mimetype": "text/x-python",
   "name": "python",
   "nbconvert_exporter": "python",
   "pygments_lexer": "ipython3",
   "version": "3.6.5"
  }
 },
 "nbformat": 4,
 "nbformat_minor": 2
}
