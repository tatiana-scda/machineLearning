{
 "cells": [
  {
   "cell_type": "markdown",
   "metadata": {},
   "source": [
    "# Implementação do Algoritmo de Boosting"
   ]
  },
  {
   "cell_type": "markdown",
   "metadata": {},
   "source": [
    "## Boosting \n",
    "\n",
    "_Boosting_ é um processo que utiliza um conjunto de modelos de solução fraca (_weak learner_) para atingir melhor acurácia e criar uma solução forte (_strong learner_).\n",
    "\n",
    "Os _weak learners_ no Adaboost são árvores de decisão de primeiro nível, chamados de _stumps_. Na primeira iteração, todos os pesos do algoritmo iniciam iguais e após isso, as decisão classificadas incorretamente passam a ter maior peso do que as classificadas corretamente."
   ]
  },
  {
   "cell_type": "markdown",
   "metadata": {},
   "source": [
    "## Implementação"
   ]
  },
  {
   "cell_type": "markdown",
   "metadata": {},
   "source": [
    "Primeiramente importamos as bibliotecas necessárias. "
   ]
  },
  {
   "cell_type": "code",
   "execution_count": 13,
   "metadata": {},
   "outputs": [],
   "source": [
    "import numpy as np\n",
    "import pandas as pd\n",
    "\n",
    "from IPython.display import display\n",
    "\n",
    "import matplotlib.pyplot as plt\n",
    "\n",
    "%matplotlib inline"
   ]
  },
  {
   "cell_type": "markdown",
   "metadata": {},
   "source": [
    "Em sequência fazemos a leitura e estruturação dos dados de entrada.\n",
    "\n",
    "Para isso vamos separar nossos dados em dois grupos, `features` e `labels`. \n",
    "\n",
    "| Grupo    | Descrição                  |\n",
    "| :------- | :------------------------- |\n",
    "| features | caractetirsticas dos dados |\n",
    "| labels   | classificação              |"
   ]
  },
  {
   "cell_type": "code",
   "execution_count": 14,
   "metadata": {},
   "outputs": [],
   "source": [
    "# Open pandas dataframe\n",
    "data = pd.read_csv('tic-tac-toe.data', header=None).sample(frac=1)\n",
    "\n",
    "# List of labels and features\n",
    "original_features = []\n",
    "original_labels = []\n",
    "\n",
    "# Labels\n",
    "original_labels = data[data.columns[9]].values \n",
    "del data[data.columns[9]] \n",
    "original_labels = pd.Categorical(original_labels).codes\n",
    "original_labels = [1 if i == 1 else -1 for i in original_labels]\n",
    "original_labels = np.asarray(original_labels)\n",
    "\n",
    "# Features\n",
    "original_features = data.values\n",
    "original_features = np.asarray(original_features)"
   ]
  },
  {
   "cell_type": "markdown",
   "metadata": {},
   "source": [
    "Após essa separação podemos imprimir as classes na variavel `labels` para verificar a transformação em dado categórico. \n",
    "A escolha para manipulação como valor negativo e positivo se dá por tornar mais intuitivo os valores corrependentes como positivos e negativos, além de possibilitar a troca de valor das classificações incorretas."
   ]
  },
  {
   "cell_type": "code",
   "execution_count": 15,
   "metadata": {},
   "outputs": [
    {
     "data": {
      "text/plain": [
       "array([ 1,  1,  1, -1,  1,  1,  1,  1,  1,  1,  1,  1,  1,  1,  1,  1,  1,\n",
       "        1,  1,  1,  1, -1,  1, -1,  1, -1, -1,  1,  1,  1,  1,  1,  1,  1,\n",
       "       -1, -1,  1,  1, -1,  1,  1,  1,  1, -1,  1, -1, -1,  1,  1, -1,  1,\n",
       "        1, -1,  1, -1,  1,  1, -1,  1,  1, -1,  1, -1, -1,  1,  1,  1,  1,\n",
       "        1,  1,  1, -1,  1,  1,  1,  1,  1,  1, -1, -1, -1,  1,  1,  1,  1,\n",
       "       -1, -1,  1,  1,  1,  1,  1,  1,  1,  1,  1,  1, -1,  1,  1,  1,  1,\n",
       "       -1,  1, -1,  1,  1, -1,  1, -1,  1,  1, -1,  1,  1,  1,  1,  1,  1,\n",
       "       -1, -1, -1,  1,  1,  1,  1, -1,  1,  1,  1, -1, -1,  1,  1,  1,  1,\n",
       "       -1,  1,  1,  1, -1,  1,  1, -1,  1, -1,  1, -1,  1,  1,  1,  1,  1,\n",
       "       -1,  1, -1, -1,  1,  1,  1, -1, -1,  1, -1,  1, -1,  1,  1, -1, -1,\n",
       "        1,  1,  1,  1, -1,  1,  1,  1,  1,  1,  1,  1, -1, -1,  1, -1,  1,\n",
       "        1,  1,  1,  1,  1, -1, -1,  1,  1, -1,  1,  1, -1,  1,  1, -1, -1,\n",
       "        1, -1, -1,  1,  1,  1,  1, -1,  1, -1,  1,  1,  1,  1,  1, -1,  1,\n",
       "       -1, -1,  1,  1,  1,  1, -1,  1, -1,  1,  1,  1,  1,  1, -1, -1,  1,\n",
       "       -1,  1, -1,  1, -1,  1,  1,  1,  1, -1,  1, -1,  1,  1, -1, -1,  1,\n",
       "       -1,  1, -1, -1, -1, -1,  1, -1,  1,  1,  1,  1,  1,  1, -1,  1, -1,\n",
       "        1,  1,  1,  1,  1, -1, -1, -1, -1, -1,  1,  1, -1, -1,  1, -1,  1,\n",
       "        1,  1,  1, -1,  1,  1,  1,  1, -1, -1, -1,  1,  1,  1, -1,  1,  1,\n",
       "        1,  1,  1, -1, -1, -1, -1, -1,  1, -1, -1, -1, -1,  1, -1,  1, -1,\n",
       "        1,  1, -1,  1,  1, -1,  1,  1,  1,  1, -1,  1, -1,  1,  1,  1,  1,\n",
       "        1,  1,  1,  1,  1,  1,  1,  1, -1,  1,  1,  1, -1, -1,  1,  1,  1,\n",
       "        1,  1,  1, -1,  1,  1,  1,  1, -1,  1,  1,  1, -1,  1,  1,  1,  1,\n",
       "        1,  1, -1,  1,  1,  1, -1,  1,  1, -1, -1, -1,  1,  1,  1,  1,  1,\n",
       "        1,  1,  1, -1,  1,  1,  1,  1,  1,  1,  1,  1,  1,  1,  1, -1, -1,\n",
       "        1,  1,  1,  1, -1,  1,  1,  1,  1,  1,  1,  1, -1, -1, -1,  1,  1,\n",
       "        1,  1,  1, -1,  1,  1,  1,  1,  1,  1,  1, -1, -1,  1,  1, -1,  1,\n",
       "        1,  1,  1,  1, -1, -1, -1, -1,  1,  1,  1,  1,  1,  1,  1,  1,  1,\n",
       "       -1, -1,  1,  1, -1, -1,  1,  1,  1, -1, -1,  1, -1, -1,  1,  1,  1,\n",
       "        1, -1,  1,  1, -1, -1,  1,  1, -1,  1, -1,  1, -1,  1,  1, -1,  1,\n",
       "       -1,  1,  1,  1, -1,  1, -1,  1,  1,  1, -1, -1, -1, -1, -1,  1,  1,\n",
       "        1,  1, -1,  1, -1,  1,  1, -1,  1,  1, -1, -1,  1,  1,  1,  1,  1,\n",
       "        1,  1, -1,  1, -1,  1, -1,  1,  1,  1,  1,  1,  1,  1,  1,  1,  1,\n",
       "        1,  1,  1, -1,  1, -1, -1,  1, -1,  1,  1,  1, -1,  1,  1, -1, -1,\n",
       "       -1,  1, -1,  1,  1,  1,  1,  1,  1, -1,  1, -1,  1, -1,  1,  1, -1,\n",
       "        1,  1,  1, -1,  1,  1,  1, -1, -1, -1,  1,  1, -1,  1,  1,  1, -1,\n",
       "        1,  1, -1, -1, -1, -1,  1, -1, -1,  1, -1,  1, -1,  1, -1, -1, -1,\n",
       "       -1, -1, -1,  1,  1, -1, -1, -1, -1,  1,  1,  1, -1,  1,  1,  1, -1,\n",
       "       -1, -1, -1,  1,  1,  1,  1,  1,  1, -1, -1, -1,  1,  1,  1,  1,  1,\n",
       "        1, -1,  1, -1, -1,  1,  1,  1, -1, -1,  1, -1,  1, -1, -1,  1,  1,\n",
       "        1, -1,  1, -1, -1,  1,  1, -1, -1,  1,  1, -1, -1, -1, -1,  1,  1,\n",
       "       -1,  1,  1,  1, -1,  1, -1,  1,  1, -1, -1,  1, -1, -1,  1,  1,  1,\n",
       "       -1,  1, -1, -1,  1,  1,  1,  1,  1, -1,  1, -1, -1,  1,  1,  1, -1,\n",
       "        1,  1,  1, -1, -1, -1,  1, -1,  1,  1, -1, -1,  1,  1, -1,  1, -1,\n",
       "        1,  1, -1, -1,  1, -1,  1,  1,  1, -1,  1,  1,  1,  1, -1,  1,  1,\n",
       "        1,  1, -1, -1,  1,  1, -1, -1,  1,  1,  1,  1, -1,  1,  1, -1,  1,\n",
       "       -1,  1,  1,  1, -1, -1,  1,  1,  1, -1,  1, -1,  1,  1,  1,  1, -1,\n",
       "        1,  1,  1,  1, -1,  1,  1, -1, -1, -1,  1,  1,  1,  1,  1,  1,  1,\n",
       "        1,  1,  1,  1,  1, -1,  1, -1,  1, -1,  1, -1, -1,  1,  1,  1,  1,\n",
       "       -1, -1,  1, -1,  1,  1, -1,  1, -1, -1, -1,  1, -1, -1,  1,  1,  1,\n",
       "        1,  1, -1, -1,  1,  1, -1, -1,  1,  1,  1,  1,  1, -1,  1, -1,  1,\n",
       "       -1, -1, -1,  1,  1,  1, -1,  1, -1,  1,  1,  1,  1,  1,  1,  1,  1,\n",
       "        1, -1, -1, -1,  1,  1, -1, -1,  1,  1,  1, -1,  1, -1,  1,  1, -1,\n",
       "        1, -1,  1, -1,  1,  1,  1, -1,  1,  1,  1,  1,  1, -1, -1,  1,  1,\n",
       "        1, -1, -1, -1,  1,  1,  1,  1,  1,  1,  1,  1,  1,  1, -1, -1, -1,\n",
       "        1, -1,  1, -1,  1,  1,  1,  1, -1,  1,  1,  1, -1,  1,  1, -1,  1,\n",
       "        1,  1,  1, -1,  1, -1, -1,  1,  1,  1,  1,  1, -1, -1, -1,  1,  1,\n",
       "        1, -1,  1,  1,  1,  1])"
      ]
     },
     "metadata": {},
     "output_type": "display_data"
    }
   ],
   "source": [
    "display(original_labels)"
   ]
  },
  {
   "cell_type": "markdown",
   "metadata": {},
   "source": [
    "##  Classificador - AdaBoost"
   ]
  },
  {
   "cell_type": "markdown",
   "metadata": {},
   "source": [
    "Uma vez que temos os dados discriminados, agora precisamos do algoritmo de classificação. O Adaboost irá iniciar os atributos da sua classe, calcular predição e erro de cada stump e compará-los para escolher o melhor modelo. Então é feita a comparação e cálculo de acurácia e erro. As escolhas de modelos, acurárias e erros serão aplicadas no boosting."
   ]
  },
  {
   "cell_type": "code",
   "execution_count": 16,
   "metadata": {},
   "outputs": [],
   "source": [
    "class AdaBoost:\n",
    "    \"\"\"\n",
    "    Adaboost Classifier\n",
    "    \"\"\"\n",
    "\n",
    "    FEATURES = 'features'\n",
    "    ATTRIBUTE = 'attribute'\n",
    "    CLASS = 'class'\n",
    "    VALUE = 'value'\n",
    "    STATE = 'state'\n",
    "    ERROR = 'error'\n",
    "    PREDICTIONS = 'predictions'\n",
    "    POSSIBLE_VALUES = ['x', 'o', 'b']\n",
    "    POSSIBLE_STATES = [1, -1]\n",
    "\n",
    "    def __init__(self, training_set, testing_set):\n",
    "        \"\"\"\n",
    "        Constructor\n",
    "        \"\"\"\n",
    "\n",
    "        # Class variables\n",
    "        self.training_set = training_set\n",
    "        self.testing_set = testing_set\n",
    "        self.features_len = training_set[self.FEATURES].shape[1]\n",
    "        self.train_len = training_set[self.FEATURES].shape[0]\n",
    "        self.test_len = testing_set[self.FEATURES].shape[0]\n",
    "        self.weights = np.divide(np.ones(self.train_len), self.train_len)\n",
    "        self.ensemble = []\n",
    "        self.alpha = []\n",
    "\n",
    "    def evaluate_stump(self, stump):\n",
    "        \"\"\"\n",
    "        Evaluate stump individualy\n",
    "        \"\"\"\n",
    "        \n",
    "        # Stump evaluate parameters\n",
    "        predictions = np.zeros(self.train_len)\n",
    "        pred_errors = np.ones(self.train_len)\n",
    "\n",
    "        a = stump[self.ATTRIBUTE]\n",
    "\n",
    "        # Evaluate stump based on training data\n",
    "        for i in range(self.train_len):\n",
    "            value = self.training_set[self.FEATURES][i][a]\n",
    "            output = self.training_set[self.CLASS][i]\n",
    "\n",
    "            if value == stump[self.VALUE]:\n",
    "                predictions[i] = stump[self.STATE]\n",
    "            else:\n",
    "                predictions[i] = stump[self.STATE] * -1\n",
    "\n",
    "            if predictions[i] == output:\n",
    "                pred_errors[i] = 0\n",
    "\n",
    "        # Stump error\n",
    "        error = np.sum(np.multiply(self.weights, pred_errors))\n",
    "        \n",
    "        return error, predictions\n",
    "\n",
    "    def find_best_stump(self):\n",
    "        \"\"\"\n",
    "        Compare stumps and find stump with lowest error\n",
    "        \"\"\"\n",
    "        \n",
    "        # Inf - higher error for stump compare\n",
    "        lowest_error = float('inf')\n",
    "\n",
    "        # Possible values\n",
    "        possible_values = self.POSSIBLE_VALUES\n",
    "        possible_states = self.POSSIBLE_STATES\n",
    "\n",
    "        # Find stump with lowest error\n",
    "        for a in range(self.features_len):\n",
    "            for value in possible_values:\n",
    "                for state in possible_states:\n",
    "                    stump = {self.ATTRIBUTE: a, self.VALUE: value, self.STATE: state}\n",
    "\n",
    "                    error, predictions = self.evaluate_stump(stump)\n",
    "                    \n",
    "                    stump[self.ERROR] = error\n",
    "                    stump[self.PREDICTIONS] = predictions\n",
    "                    \n",
    "                    if error < lowest_error:\n",
    "                        lowest_error = error\n",
    "                        best_stump = stump\n",
    "\n",
    "        return best_stump\n",
    "\n",
    "    def evaluate(self):\n",
    "        \"\"\"\n",
    "        Calc accuracy and arror\n",
    "        \"\"\"\n",
    "        \n",
    "        correct = 0\n",
    "\n",
    "        # Prediction based on test data\n",
    "        for i in range(self.test_len):\n",
    "            H = 0  \n",
    "\n",
    "            for model in range(len(self.ensemble)):\n",
    "                a = self.ensemble[model][self.ATTRIBUTE]\n",
    "                value = self.testing_set[self.FEATURES][i][a]\n",
    "\n",
    "                if value == self.ensemble[model][self.VALUE]:\n",
    "                    prediction = self.ensemble[model][self.STATE]\n",
    "                else:\n",
    "                    prediction = self.ensemble[model][self.STATE] * -1\n",
    "\n",
    "                H += self.alpha[model] * prediction\n",
    "\n",
    "            H = np.sign(H)\n",
    "\n",
    "            if H == self.testing_set[self.CLASS][i]:\n",
    "                correct += 1\n",
    "\n",
    "        # Accuracy and error\n",
    "        accuracy = (correct / self.test_len) * 100\n",
    "        error = 100 - accuracy\n",
    "\n",
    "        return accuracy, error\n",
    "\n",
    "    def boost(self, num_stumps):\n",
    "        \"\"\"\n",
    "        Redefine alpha weights\n",
    "        \"\"\"\n",
    "        \n",
    "        models = []\n",
    "        \n",
    "        # Redefine weights for each stump\n",
    "        for i in range(num_stumps):\n",
    "            best_model = self.find_best_stump()\n",
    "            \n",
    "            alpha = 0.5 * np.log((1 - best_model[self.ERROR]) / best_model[self.ERROR])\n",
    "            self.alpha.append(alpha) \n",
    "            self.ensemble.append(best_model)\n",
    "            \n",
    "            results = self.evaluate()          \n",
    "            accuracy = results[0]\n",
    "            error = results[1]\n",
    "            models.append(best_model)\n",
    "\n",
    "            self.weights = np.multiply(self.weights,np.exp(-1 * self.alpha[i] * np.multiply(self.training_set[self.CLASS], best_model[self.PREDICTIONS])))\n",
    "            self.weights = np.divide(self.weights, np.sum(self.weights))\n",
    "\n",
    "        return accuracy, error, models"
   ]
  },
  {
   "cell_type": "markdown",
   "metadata": {},
   "source": [
    "## Classificação dos dados"
   ]
  },
  {
   "cell_type": "markdown",
   "metadata": {},
   "source": [
    "Rodando o algoritmo com K Folds, estamos definindo que os dados serão utilizados todos (_k_) vezes e em cad auma destas vezes, um diferente set de dados será treino e teste. Esta implementação evita o overfitting e torna o algoritmo mais genérico."
   ]
  },
  {
   "cell_type": "code",
   "execution_count": 17,
   "metadata": {},
   "outputs": [],
   "source": [
    "def run(num_boosts):\n",
    "    FEATURES = 'features'\n",
    "    CLASS = 'class'\n",
    "\n",
    "    k = 5\n",
    "\n",
    "    features = np.array_split(original_features, k)\n",
    "    labels = np.array_split(original_labels, k)\n",
    "\n",
    "    accuracies = []\n",
    "    errors = []\n",
    "\n",
    "    print('=================================================')\n",
    "    print('Executando para ' + str(num_boosts) + ' Stumps')\n",
    "\n",
    "\n",
    "    \n",
    "    # Exec k fold\n",
    "    for i in range(k):\n",
    "        print(('Fold '+str(i+1)).ljust(10), end=\" \")\n",
    "\n",
    "        # Set up test data\n",
    "        test = {FEATURES: features[i], CLASS: labels[i].astype(int)}\n",
    "\n",
    "        # Remaining data as training\n",
    "        remaining_features = np.concatenate(np.delete(features, i))\n",
    "        remaining_labels = np.concatenate(np.delete(labels, i))\n",
    "\n",
    "        train = {FEATURES: remaining_features, CLASS: remaining_labels.astype(int)}\n",
    "\n",
    "        # Instance Classifier\n",
    "        boosting = AdaBoost(train, test)\n",
    "\n",
    "        # Exec classifier with X steps\n",
    "        accuracy,error,models = boosting.boost(num_boosts)\n",
    "\n",
    "        # Print accuracy and error for each fold\n",
    "        print('Accuracy: %.2f'%accuracy+'%', end=\"\\t\") \n",
    "        print('Error: %.2f'%error+'%')\n",
    "        accuracies.append(accuracy)\n",
    "        errors.append(error)\n",
    "\n",
    "    # Find mean accuracy and error and print on notebook\n",
    "    accuracy = np.divide(np.sum(accuracies), k)\n",
    "    error = np.divide(np.sum(errors), k)\n",
    "\n",
    "    print('-------------------------------------------------')\n",
    "    print('Final'.ljust(10), end=' ')\n",
    "    print('Accuracy: %.2f'%accuracy+'%', end='\\t')\n",
    "    print('Error: %.2f'%error+'%')\n",
    "    print('=================================================')\n",
    "    \n",
    "    return accuracy"
   ]
  },
  {
   "cell_type": "markdown",
   "metadata": {},
   "source": [
    "A fim de entender o impacto do número de boostings na implemetação, foi feita uma comparação de acurácia e erro na execussão dos valores de 10, 50, 100, 500 e 1000."
   ]
  },
  {
   "cell_type": "code",
   "execution_count": 18,
   "metadata": {},
   "outputs": [
    {
     "name": "stdout",
     "output_type": "stream",
     "text": [
      "=================================================\n",
      "Executando para 10 Stumps\n",
      "Fold 1     Accuracy: 75.00%\tError: 25.00%\n",
      "Fold 2     Accuracy: 72.92%\tError: 27.08%\n",
      "Fold 3     Accuracy: 75.52%\tError: 24.48%\n",
      "Fold 4     Accuracy: 70.68%\tError: 29.32%\n",
      "Fold 5     Accuracy: 74.35%\tError: 25.65%\n",
      "-------------------------------------------------\n",
      "Final      Accuracy: 73.69%\tError: 26.31%\n",
      "=================================================\n",
      "=================================================\n",
      "Executando para 50 Stumps\n",
      "Fold 1     Accuracy: 82.81%\tError: 17.19%\n",
      "Fold 2     Accuracy: 79.17%\tError: 20.83%\n",
      "Fold 3     Accuracy: 84.90%\tError: 15.10%\n",
      "Fold 4     Accuracy: 79.06%\tError: 20.94%\n",
      "Fold 5     Accuracy: 85.86%\tError: 14.14%\n",
      "-------------------------------------------------\n",
      "Final      Accuracy: 82.36%\tError: 17.64%\n",
      "=================================================\n",
      "=================================================\n",
      "Executando para 100 Stumps\n",
      "Fold 1     Accuracy: 91.15%\tError: 8.85%\n",
      "Fold 2     Accuracy: 86.98%\tError: 13.02%\n",
      "Fold 3     Accuracy: 91.15%\tError: 8.85%\n",
      "Fold 4     Accuracy: 85.86%\tError: 14.14%\n",
      "Fold 5     Accuracy: 91.10%\tError: 8.90%\n",
      "-------------------------------------------------\n",
      "Final      Accuracy: 89.25%\tError: 10.75%\n",
      "=================================================\n",
      "=================================================\n",
      "Executando para 500 Stumps\n",
      "Fold 1     Accuracy: 98.44%\tError: 1.56%\n",
      "Fold 2     Accuracy: 97.40%\tError: 2.60%\n",
      "Fold 3     Accuracy: 98.96%\tError: 1.04%\n",
      "Fold 4     Accuracy: 97.38%\tError: 2.62%\n",
      "Fold 5     Accuracy: 98.95%\tError: 1.05%\n",
      "-------------------------------------------------\n",
      "Final      Accuracy: 98.23%\tError: 1.77%\n",
      "=================================================\n",
      "=================================================\n",
      "Executando para 1000 Stumps\n",
      "Fold 1     Accuracy: 98.96%\tError: 1.04%\n",
      "Fold 2     Accuracy: 97.40%\tError: 2.60%\n",
      "Fold 3     Accuracy: 98.96%\tError: 1.04%\n",
      "Fold 4     Accuracy: 97.38%\tError: 2.62%\n",
      "Fold 5     Accuracy: 98.95%\tError: 1.05%\n",
      "-------------------------------------------------\n",
      "Final      Accuracy: 98.33%\tError: 1.67%\n",
      "=================================================\n"
     ]
    },
    {
     "data": {
      "text/plain": [
       "Text(0.5,0,'Número de Stumps')"
      ]
     },
     "execution_count": 18,
     "metadata": {},
     "output_type": "execute_result"
    },
    {
     "data": {
      "image/png": "[encoded data removed]",
      "text/plain": [
       "<Figure size 432x288 with 1 Axes>"
      ]
     },
     "metadata": {},
     "output_type": "display_data"
    }
   ],
   "source": [
    "plot_run = []\n",
    "\n",
    "num_boosts = [10, 50, 100, 500, 1000]\n",
    "\n",
    "for num in num_boosts:\n",
    "    plot_run.append(run(num))\n",
    "\n",
    "plt.title('Precisão para número de Stumps')\n",
    "plt.plot(num_boosts, plot_run, linestyle='-', marker='*', color='r')\n",
    "plt.ylabel('Acurácia')\n",
    "plt.xlabel('Número de Stumps')\n"
   ]
  },
  {
   "cell_type": "markdown",
   "metadata": {},
   "source": [
    "A diferenciação entre 500 e 1000 boosts se torna irrelevante. Isto mostra que o algoritmo atingiu a otimização antes de rodar com 1000 bosts. Como há uso de aleatoriedade na dispisição dos dados, é possível achar resultados que saiam um pouco do escopo esperado em execuções."
   ]
  },
  {
   "cell_type": "markdown",
   "metadata": {},
   "source": [
    "# Referência\n",
    "\n",
    "https://machinelearningmastery.com/boosting-and-adaboost-for-machine-learning/"
   ]
  }
 ],
 "metadata": {
  "kernelspec": {
   "display_name": "Python 3",
   "language": "python",
   "name": "python3"
  },
  "language_info": {
   "codemirror_mode": {
    "name": "ipython",
    "version": 3
   },
   "file_extension": ".py",
   "mimetype": "text/x-python",
   "name": "python",
   "nbconvert_exporter": "python",
   "pygments_lexer": "ipython3",
   "version": "3.6.5"
  }
 },
 "nbformat": 4,
 "nbformat_minor": 2
}
